{
 "cells": [
  {
   "cell_type": "code",
   "execution_count": 2,
   "metadata": {},
   "outputs": [],
   "source": [
    "from collections import defaultdict\n",
    "import pandas as pd\n",
    "import numpy as np\n",
    "import matplotlib.pyplot as plt\n",
    "import seaborn as sns\n",
    "import category_encoders as ce\n",
    "import missingno as msno\n",
    "\n",
    "# Imbalanced-learn\n",
    "from imblearn.over_sampling import SMOTE, ADASYN\n",
    "\n",
    "from sklearn.model_selection import train_test_split, RandomizedSearchCV\n",
    "from sklearn.ensemble import RandomForestClassifier\n",
    "from sklearn.tree import DecisionTreeClassifier\n",
    "from sklearn.metrics import classification_report, confusion_matrix, roc_auc_score\n",
    "\n",
    "# Interpretable machine learning\n",
    "from yellowbrick.features import Rank2D\n",
    "from yellowbrick.classifier import ClassificationReport, ROCAUC, PrecisionRecallCurve\n",
    "from yellowbrick.model_selection import FeatureImportances\n",
    "\n",
    "# Notebook configurations\n",
    "sns.set_style('ticks')\n",
    "sns.set_context(\"paper\")\n",
    "sns.set_palette(\"Set1\")"
   ]
  },
  {
   "cell_type": "code",
   "execution_count": 2,
   "metadata": {},
   "outputs": [],
   "source": [
    "# LIME\n",
    "import lime\n",
    "import lime.lime_tabular"
   ]
  },
  {
   "cell_type": "code",
   "execution_count": 3,
   "metadata": {},
   "outputs": [],
   "source": [
    "# From nightly build of Scikit-Learn\n",
    "from sklearn.inspection import permutation_importance"
   ]
  },
  {
   "cell_type": "markdown",
   "metadata": {},
   "source": [
    "# Getting started"
   ]
  },
  {
   "cell_type": "code",
   "execution_count": 9,
   "metadata": {},
   "outputs": [
    {
     "data": {
      "text/html": [
       "<div>\n",
       "<style scoped>\n",
       "    .dataframe tbody tr th:only-of-type {\n",
       "        vertical-align: middle;\n",
       "    }\n",
       "\n",
       "    .dataframe tbody tr th {\n",
       "        vertical-align: top;\n",
       "    }\n",
       "\n",
       "    .dataframe thead th {\n",
       "        text-align: right;\n",
       "    }\n",
       "</style>\n",
       "<table border=\"1\" class=\"dataframe\">\n",
       "  <thead>\n",
       "    <tr style=\"text-align: right;\">\n",
       "      <th></th>\n",
       "      <th>title</th>\n",
       "      <th>Production_Budget</th>\n",
       "      <th>id</th>\n",
       "      <th>runtime</th>\n",
       "      <th>Action</th>\n",
       "      <th>Adventure</th>\n",
       "      <th>Animation</th>\n",
       "      <th>Comedy</th>\n",
       "      <th>Crime</th>\n",
       "      <th>Documentary</th>\n",
       "      <th>...</th>\n",
       "      <th>cast_5</th>\n",
       "      <th>casting</th>\n",
       "      <th>composer</th>\n",
       "      <th>director</th>\n",
       "      <th>producer</th>\n",
       "      <th>screenplay</th>\n",
       "      <th>keyword_1</th>\n",
       "      <th>keyword_2</th>\n",
       "      <th>keyword_3</th>\n",
       "      <th>target</th>\n",
       "    </tr>\n",
       "  </thead>\n",
       "  <tbody>\n",
       "    <tr>\n",
       "      <th>0</th>\n",
       "      <td>Edge of Tomorrow</td>\n",
       "      <td>178000000</td>\n",
       "      <td>137113</td>\n",
       "      <td>113.0</td>\n",
       "      <td>1</td>\n",
       "      <td>0</td>\n",
       "      <td>0</td>\n",
       "      <td>0</td>\n",
       "      <td>0</td>\n",
       "      <td>0</td>\n",
       "      <td>...</td>\n",
       "      <td>Jonas Armstrong</td>\n",
       "      <td>Lucinda Syson</td>\n",
       "      <td>Christophe Beck</td>\n",
       "      <td>Doug Liman</td>\n",
       "      <td>Erwin Stoff</td>\n",
       "      <td>Christopher McQuarrie</td>\n",
       "      <td>deja vu</td>\n",
       "      <td>time warp</td>\n",
       "      <td>restart</td>\n",
       "      <td>1</td>\n",
       "    </tr>\n",
       "    <tr>\n",
       "      <th>1</th>\n",
       "      <td>Up</td>\n",
       "      <td>175000000</td>\n",
       "      <td>14160</td>\n",
       "      <td>96.0</td>\n",
       "      <td>0</td>\n",
       "      <td>0</td>\n",
       "      <td>1</td>\n",
       "      <td>1</td>\n",
       "      <td>0</td>\n",
       "      <td>0</td>\n",
       "      <td>...</td>\n",
       "      <td>Delroy Lindo</td>\n",
       "      <td>Kevin Reher</td>\n",
       "      <td>NaN</td>\n",
       "      <td>Pete Docter</td>\n",
       "      <td>Jonas Rivera</td>\n",
       "      <td>Bob Peterson</td>\n",
       "      <td>age difference</td>\n",
       "      <td>central and south america</td>\n",
       "      <td>balloon</td>\n",
       "      <td>1</td>\n",
       "    </tr>\n",
       "    <tr>\n",
       "      <th>2</th>\n",
       "      <td>Cars 3</td>\n",
       "      <td>175000000</td>\n",
       "      <td>260514</td>\n",
       "      <td>102.0</td>\n",
       "      <td>0</td>\n",
       "      <td>1</td>\n",
       "      <td>1</td>\n",
       "      <td>1</td>\n",
       "      <td>0</td>\n",
       "      <td>0</td>\n",
       "      <td>...</td>\n",
       "      <td>Larry the Cable Guy</td>\n",
       "      <td>Kevin Reher</td>\n",
       "      <td>Randy Newman</td>\n",
       "      <td>Brian Fee</td>\n",
       "      <td>Kevin Reher</td>\n",
       "      <td>Bob Peterson</td>\n",
       "      <td>cgi</td>\n",
       "      <td>anthropomorphism</td>\n",
       "      <td>NaN</td>\n",
       "      <td>1</td>\n",
       "    </tr>\n",
       "    <tr>\n",
       "      <th>3</th>\n",
       "      <td>G.I. Joe: The Rise of Cobra</td>\n",
       "      <td>175000000</td>\n",
       "      <td>14869</td>\n",
       "      <td>118.0</td>\n",
       "      <td>1</td>\n",
       "      <td>1</td>\n",
       "      <td>0</td>\n",
       "      <td>0</td>\n",
       "      <td>0</td>\n",
       "      <td>0</td>\n",
       "      <td>...</td>\n",
       "      <td>Joseph Gordon-Levitt</td>\n",
       "      <td>Ronna Kress</td>\n",
       "      <td>Alan Silvestri</td>\n",
       "      <td>Stephen Sommers</td>\n",
       "      <td>Lorenzo Di Bonaventura</td>\n",
       "      <td>Stuart Beattie</td>\n",
       "      <td>terrorist</td>\n",
       "      <td>secret</td>\n",
       "      <td>hostage</td>\n",
       "      <td>1</td>\n",
       "    </tr>\n",
       "    <tr>\n",
       "      <th>4</th>\n",
       "      <td>The Mummy: Tomb of the Dragon Emperor</td>\n",
       "      <td>175000000</td>\n",
       "      <td>1735</td>\n",
       "      <td>112.0</td>\n",
       "      <td>1</td>\n",
       "      <td>1</td>\n",
       "      <td>0</td>\n",
       "      <td>0</td>\n",
       "      <td>0</td>\n",
       "      <td>0</td>\n",
       "      <td>...</td>\n",
       "      <td>Luke Ford</td>\n",
       "      <td>Ronna Kress</td>\n",
       "      <td>NaN</td>\n",
       "      <td>Rob Cohen</td>\n",
       "      <td>Stephen Sommers</td>\n",
       "      <td>Miles Millar</td>\n",
       "      <td>NaN</td>\n",
       "      <td>NaN</td>\n",
       "      <td>NaN</td>\n",
       "      <td>1</td>\n",
       "    </tr>\n",
       "  </tbody>\n",
       "</table>\n",
       "<p>5 rows × 44 columns</p>\n",
       "</div>"
      ],
      "text/plain": [
       "                                   title  Production_Budget      id  runtime  \\\n",
       "0                       Edge of Tomorrow          178000000  137113    113.0   \n",
       "1                                     Up          175000000   14160     96.0   \n",
       "2                                 Cars 3          175000000  260514    102.0   \n",
       "3            G.I. Joe: The Rise of Cobra          175000000   14869    118.0   \n",
       "4  The Mummy: Tomb of the Dragon Emperor          175000000    1735    112.0   \n",
       "\n",
       "   Action  Adventure  Animation  Comedy  Crime  Documentary  ...  \\\n",
       "0       1          0          0       0      0            0  ...   \n",
       "1       0          0          1       1      0            0  ...   \n",
       "2       0          1          1       1      0            0  ...   \n",
       "3       1          1          0       0      0            0  ...   \n",
       "4       1          1          0       0      0            0  ...   \n",
       "\n",
       "                 cast_5        casting         composer         director  \\\n",
       "0       Jonas Armstrong  Lucinda Syson  Christophe Beck       Doug Liman   \n",
       "1          Delroy Lindo    Kevin Reher              NaN      Pete Docter   \n",
       "2   Larry the Cable Guy    Kevin Reher     Randy Newman        Brian Fee   \n",
       "3  Joseph Gordon-Levitt    Ronna Kress   Alan Silvestri  Stephen Sommers   \n",
       "4             Luke Ford    Ronna Kress              NaN        Rob Cohen   \n",
       "\n",
       "                 producer             screenplay       keyword_1  \\\n",
       "0             Erwin Stoff  Christopher McQuarrie         deja vu   \n",
       "1            Jonas Rivera           Bob Peterson  age difference   \n",
       "2             Kevin Reher           Bob Peterson             cgi   \n",
       "3  Lorenzo Di Bonaventura         Stuart Beattie       terrorist   \n",
       "4         Stephen Sommers           Miles Millar             NaN   \n",
       "\n",
       "                   keyword_2  keyword_3  target  \n",
       "0                  time warp    restart       1  \n",
       "1  central and south america    balloon       1  \n",
       "2           anthropomorphism        NaN       1  \n",
       "3                     secret    hostage       1  \n",
       "4                        NaN        NaN       1  \n",
       "\n",
       "[5 rows x 44 columns]"
      ]
     },
     "execution_count": 9,
     "metadata": {},
     "output_type": "execute_result"
    }
   ],
   "source": [
    "movies = pd.read_csv('dataset.csv')\n",
    "movies.head()"
   ]
  },
  {
   "cell_type": "code",
   "execution_count": 10,
   "metadata": {},
   "outputs": [],
   "source": [
    "movies['runtime'].fillna((movies['runtime'].mean()), inplace=True)\n",
    "\n",
    "movies.drop(['prod_company_2', 'prod_company_3', 'casting', 'composer', 'screenplay', 'keyword_2', 'keyword_3'],\n",
    "       axis=1,\n",
    "       inplace=True)\n",
    "\n",
    "movies.drop(['title', 'id'], inplace=True, axis=1)\n",
    "\n",
    "# Shuffle the data to destroy order\n",
    "shuffle_df = movies.sample(frac=1).reset_index(drop=True)"
   ]
  },
  {
   "cell_type": "code",
   "execution_count": 14,
   "metadata": {},
   "outputs": [],
   "source": [
    "# movies = pd.get_dummies(movies, columns=['release_month', 'release_day'])"
   ]
  },
  {
   "cell_type": "code",
   "execution_count": 11,
   "metadata": {},
   "outputs": [],
   "source": [
    "# ---- Splitting to train and test sets ---------\n",
    "\n",
    "# Train set\n",
    "train = shuffle_df.iloc[:2000, :]\n",
    "y_train = train['target']\n",
    "X_train = train.drop('target', axis=1)\n",
    "\n",
    "# Test set\n",
    "test = shuffle_df.iloc[2000:, :]\n",
    "y_test = test['target']\n",
    "X_test = test.drop('target', axis=1)"
   ]
  },
  {
   "cell_type": "markdown",
   "metadata": {},
   "source": [
    "***\n",
    "# LeaveOneOutEncoding"
   ]
  },
  {
   "cell_type": "code",
   "execution_count": 12,
   "metadata": {},
   "outputs": [],
   "source": [
    "# Train set\n",
    "X_train_enc = ce.LeaveOneOutEncoder(cols=['prod_company_1', 'cast_1', 'cast_2', \n",
    "                                  'cast_3', 'cast_4', 'cast_5',\n",
    "                                  'director', 'producer', 'keyword_1'],\n",
    "                                    sigma=0.05\n",
    "                                   ).fit_transform(X_train, y_train)\n",
    "\n",
    "# Test set\n",
    "X_test_enc = ce.LeaveOneOutEncoder(cols=['prod_company_1', 'cast_1', 'cast_2', \n",
    "                                  'cast_3', 'cast_4', 'cast_5',\n",
    "                                  'director', 'producer', 'keyword_1']\n",
    "                                  ).fit_transform(X_test, y_test)"
   ]
  },
  {
   "cell_type": "markdown",
   "metadata": {},
   "source": [
    "## Class reweight:"
   ]
  },
  {
   "cell_type": "code",
   "execution_count": 57,
   "metadata": {},
   "outputs": [
    {
     "name": "stdout",
     "output_type": "stream",
     "text": [
      "              precision    recall  f1-score   support\n",
      "\n",
      "           0       0.45      0.83      0.58       253\n",
      "           1       0.81      0.41      0.54       444\n",
      "\n",
      "    accuracy                           0.56       697\n",
      "   macro avg       0.63      0.62      0.56       697\n",
      "weighted avg       0.68      0.56      0.56       697\n",
      "\n"
     ]
    }
   ],
   "source": [
    "clf = DecisionTreeClassifier(splitter='best',\n",
    "                             min_samples_split= 18,\n",
    "                             min_samples_leaf= 2,\n",
    "                             max_features= 'auto',\n",
    "                             max_depth=70,\n",
    "                             criterion= 'entropy',\n",
    "                             class_weight= {0:2, 1:1},\n",
    "                             ccp_alpha= 0.020202020202020204,\n",
    "                            random_state=1\n",
    "                            ).fit(X_train_enc, y_train)\n",
    "\n",
    "# Get predictions\n",
    "y_pred = clf.predict(X_test_enc)\n",
    "\n",
    "# Print classification_report\n",
    "print(classification_report(y_test, y_pred))"
   ]
  },
  {
   "cell_type": "markdown",
   "metadata": {},
   "source": [
    "[ROCAUC score](https://scikit-learn.org/stable/modules/model_evaluation.html#roc-metrics)"
   ]
  },
  {
   "cell_type": "code",
   "execution_count": 58,
   "metadata": {},
   "outputs": [
    {
     "name": "stdout",
     "output_type": "stream",
     "text": [
      "The ROCAUC score is: 0.655\n"
     ]
    }
   ],
   "source": [
    "probs = clf.predict_proba(X_test_enc)[:, 1]\n",
    "print('The ROCAUC score is: {:.3f}'.format(roc_auc_score(y_test, probs)))"
   ]
  },
  {
   "cell_type": "code",
   "execution_count": 59,
   "metadata": {},
   "outputs": [
    {
     "name": "stdout",
     "output_type": "stream",
     "text": [
      "Unnormalized confusion matrix:\n",
      " [[211  42]\n",
      " [263 181]]\n"
     ]
    },
    {
     "data": {
      "image/png": "[encoded data removed]",
      "text/plain": [
       "<Figure size 360x360 with 2 Axes>"
      ]
     },
     "metadata": {},
     "output_type": "display_data"
    }
   ],
   "source": [
    "cm = confusion_matrix(y_test, y_pred)\n",
    "cm = cm.astype('float') / cm.sum(axis=1)[:, np.newaxis]\n",
    "\n",
    "fig, ax = plt.subplots(figsize=(5, 5))\n",
    "im = ax.imshow(cm, interpolation='nearest', cmap='GnBu')\n",
    "ax.figure.colorbar(im, ax=ax)\n",
    "# We want to show all ticks...\n",
    "ax.set(xticks=np.arange(cm.shape[1]),\n",
    "       yticks=np.arange(cm.shape[0]),\n",
    "       # ... and label them with the respective list entries\n",
    "       ylabel='True label',\n",
    "       xlabel='Predicted label')\n",
    "ax.set_title('Normalized Confusion matrix', fontsize=15)\n",
    "\n",
    "# Loop over data dimensions and create text annotations.\n",
    "fmt = '.2f'\n",
    "thresh = cm.max() / 2.\n",
    "for i in range(cm.shape[0]):\n",
    "    for j in range(cm.shape[1]):\n",
    "        ax.text(j, i, format(cm[i, j], fmt),\n",
    "                ha=\"center\", va=\"center\",\n",
    "                color=\"white\" if cm[i, j] > thresh else \"black\")\n",
    "\n",
    "np.set_printoptions(precision=2)\n",
    "\n",
    "print('Unnormalized confusion matrix:\\n', confusion_matrix(y_test, y_pred))\n",
    "plt.show()"
   ]
  },
  {
   "cell_type": "markdown",
   "metadata": {},
   "source": [
    "## SMOTE oversampling:\n",
    "\n",
    "Oversampling only done on train set ([source](https://beckernick.github.io/oversampling-modeling/)):"
   ]
  },
  {
   "cell_type": "code",
   "execution_count": 60,
   "metadata": {},
   "outputs": [
    {
     "name": "stderr",
     "output_type": "stream",
     "text": [
      "C:\\Users\\Sina\\AppData\\Roaming\\Python\\Python37\\site-packages\\sklearn\\utils\\deprecation.py:87: FutureWarning: Function safe_indexing is deprecated; safe_indexing is deprecated in version 0.22 and will be removed in version 0.24.\n",
      "  warnings.warn(msg, category=FutureWarning)\n"
     ]
    }
   ],
   "source": [
    "X_train_smote, y_train_smote = SMOTE().fit_resample(X_train_enc, y_train)"
   ]
  },
  {
   "cell_type": "code",
   "execution_count": 61,
   "metadata": {},
   "outputs": [
    {
     "data": {
      "text/plain": [
       "array([1253, 1253], dtype=int64)"
      ]
     },
     "execution_count": 61,
     "metadata": {},
     "output_type": "execute_result"
    }
   ],
   "source": [
    "np.bincount(y_train_smote)"
   ]
  },
  {
   "cell_type": "code",
   "execution_count": 69,
   "metadata": {},
   "outputs": [
    {
     "name": "stdout",
     "output_type": "stream",
     "text": [
      "              precision    recall  f1-score   support\n",
      "\n",
      "           0       0.61      0.22      0.32       253\n",
      "           1       0.67      0.92      0.78       444\n",
      "\n",
      "    accuracy                           0.67       697\n",
      "   macro avg       0.64      0.57      0.55       697\n",
      "weighted avg       0.65      0.67      0.61       697\n",
      "\n"
     ]
    }
   ],
   "source": [
    "clf = DecisionTreeClassifier(splitter='best',\n",
    "                             min_samples_split= 18,\n",
    "                             min_samples_leaf= 2,\n",
    "                             max_features= 'auto',\n",
    "                             max_depth=70,\n",
    "                             criterion= 'entropy',\n",
    "                             ccp_alpha= 0.020202020202020204,\n",
    "                            random_state=1\n",
    "                            ).fit(X_train_smote, y_train_smote)\n",
    "\n",
    "\n",
    "# Get predictions\n",
    "y_pred = clf.predict(X_test_enc)\n",
    "\n",
    "# Print classification_report\n",
    "print(classification_report(y_test, y_pred))"
   ]
  },
  {
   "cell_type": "code",
   "execution_count": 70,
   "metadata": {},
   "outputs": [
    {
     "name": "stdout",
     "output_type": "stream",
     "text": [
      "The ROCAUC score is: 0.569\n"
     ]
    }
   ],
   "source": [
    "probs = clf.predict_proba(X_test_enc)[:, 1]\n",
    "print('The ROCAUC score is: {:.3f}'.format(roc_auc_score(y_test, probs)))"
   ]
  },
  {
   "cell_type": "code",
   "execution_count": 71,
   "metadata": {},
   "outputs": [
    {
     "name": "stdout",
     "output_type": "stream",
     "text": [
      "Unnormalized confusion matrix:\n",
      " [[ 55 198]\n",
      " [ 35 409]]\n"
     ]
    },
    {
     "data": {
      "image/png": "[encoded data removed]",
      "text/plain": [
       "<Figure size 360x360 with 2 Axes>"
      ]
     },
     "metadata": {},
     "output_type": "display_data"
    }
   ],
   "source": [
    "cm = confusion_matrix(y_test, y_pred)\n",
    "cm = cm.astype('float') / cm.sum(axis=1)[:, np.newaxis]\n",
    "\n",
    "fig, ax = plt.subplots(figsize=(5, 5))\n",
    "im = ax.imshow(cm, interpolation='nearest', cmap='GnBu')\n",
    "ax.figure.colorbar(im, ax=ax)\n",
    "# We want to show all ticks...\n",
    "ax.set(xticks=np.arange(cm.shape[1]),\n",
    "       yticks=np.arange(cm.shape[0]),\n",
    "       # ... and label them with the respective list entries\n",
    "       ylabel='True label',\n",
    "       xlabel='Predicted label')\n",
    "ax.set_title('Normalized Confusion matrix', fontsize=15)\n",
    "\n",
    "# Loop over data dimensions and create text annotations.\n",
    "fmt = '.2f'\n",
    "thresh = cm.max() / 2.\n",
    "for i in range(cm.shape[0]):\n",
    "    for j in range(cm.shape[1]):\n",
    "        ax.text(j, i, format(cm[i, j], fmt),\n",
    "                ha=\"center\", va=\"center\",\n",
    "                color=\"white\" if cm[i, j] > thresh else \"black\")\n",
    "\n",
    "np.set_printoptions(precision=2)\n",
    "\n",
    "print('Unnormalized confusion matrix:\\n', confusion_matrix(y_test, y_pred))\n",
    "plt.show()"
   ]
  },
  {
   "cell_type": "markdown",
   "metadata": {},
   "source": [
    "## ADASYN oversampling"
   ]
  },
  {
   "cell_type": "code",
   "execution_count": 72,
   "metadata": {},
   "outputs": [
    {
     "name": "stderr",
     "output_type": "stream",
     "text": [
      "C:\\Users\\Sina\\AppData\\Roaming\\Python\\Python37\\site-packages\\sklearn\\utils\\deprecation.py:87: FutureWarning: Function safe_indexing is deprecated; safe_indexing is deprecated in version 0.22 and will be removed in version 0.24.\n",
      "  warnings.warn(msg, category=FutureWarning)\n"
     ]
    }
   ],
   "source": [
    "X_train_adasyn, y_train_adasyn = ADASYN().fit_resample(X_train_enc, y_train)"
   ]
  },
  {
   "cell_type": "code",
   "execution_count": 73,
   "metadata": {},
   "outputs": [
    {
     "data": {
      "text/plain": [
       "array([1228, 1253], dtype=int64)"
      ]
     },
     "execution_count": 73,
     "metadata": {},
     "output_type": "execute_result"
    }
   ],
   "source": [
    "np.bincount(y_train_adasyn)"
   ]
  },
  {
   "cell_type": "code",
   "execution_count": 74,
   "metadata": {},
   "outputs": [
    {
     "name": "stdout",
     "output_type": "stream",
     "text": [
      "              precision    recall  f1-score   support\n",
      "\n",
      "           0       0.43      0.63      0.51       253\n",
      "           1       0.71      0.52      0.60       444\n",
      "\n",
      "    accuracy                           0.56       697\n",
      "   macro avg       0.57      0.57      0.55       697\n",
      "weighted avg       0.61      0.56      0.57       697\n",
      "\n"
     ]
    }
   ],
   "source": [
    "clf = DecisionTreeClassifier(splitter='best',\n",
    "                             min_samples_split= 18,\n",
    "                             min_samples_leaf= 2,\n",
    "                             max_features= 'auto',\n",
    "                             max_depth=70,\n",
    "                             criterion= 'entropy',\n",
    "                             ccp_alpha= 0.020202020202020204,\n",
    "                            random_state=1\n",
    "                            ).fit(X_train_adasyn, y_train_adasyn)\n",
    "\n",
    "# Get predictions\n",
    "y_pred = clf.predict(X_test_enc)\n",
    "\n",
    "# Print classification_report\n",
    "print(classification_report(y_test, y_pred))"
   ]
  },
  {
   "cell_type": "code",
   "execution_count": 84,
   "metadata": {},
   "outputs": [
    {
     "name": "stdout",
     "output_type": "stream",
     "text": [
      "The ROCAUC score is: 0.66\n"
     ]
    }
   ],
   "source": [
    "probs = clf.predict_proba(X_test_enc)[:, 1]\n",
    "print('The ROCAUC score is: {:.2f}'.format(roc_auc_score(y_test, probs)))"
   ]
  },
  {
   "cell_type": "code",
   "execution_count": 76,
   "metadata": {},
   "outputs": [
    {
     "name": "stdout",
     "output_type": "stream",
     "text": [
      "Unnormalized confusion matrix:\n",
      " [[160  93]\n",
      " [215 229]]\n"
     ]
    },
    {
     "data": {
      "image/png": "[encoded data removed]",
      "text/plain": [
       "<Figure size 360x360 with 2 Axes>"
      ]
     },
     "metadata": {},
     "output_type": "display_data"
    }
   ],
   "source": [
    "cm = confusion_matrix(y_test, y_pred)\n",
    "cm = cm.astype('float') / cm.sum(axis=1)[:, np.newaxis]\n",
    "\n",
    "fig, ax = plt.subplots(figsize=(5, 5))\n",
    "im = ax.imshow(cm, interpolation='nearest', cmap='GnBu')\n",
    "ax.figure.colorbar(im, ax=ax)\n",
    "# We want to show all ticks...\n",
    "ax.set(xticks=np.arange(cm.shape[1]),\n",
    "       yticks=np.arange(cm.shape[0]),\n",
    "       # ... and label them with the respective list entries\n",
    "       ylabel='True label',\n",
    "       xlabel='Predicted label')\n",
    "ax.set_title('Normalized Confusion matrix', fontsize=15)\n",
    "\n",
    "# Loop over data dimensions and create text annotations.\n",
    "fmt = '.2f'\n",
    "thresh = cm.max() / 2.\n",
    "for i in range(cm.shape[0]):\n",
    "    for j in range(cm.shape[1]):\n",
    "        ax.text(j, i, format(cm[i, j], fmt),\n",
    "                ha=\"center\", va=\"center\",\n",
    "                color=\"white\" if cm[i, j] > thresh else \"black\")\n",
    "\n",
    "np.set_printoptions(precision=2)\n",
    "\n",
    "print('Unnormalized confusion matrix:\\n', confusion_matrix(y_test, y_pred))\n",
    "plt.show()"
   ]
  },
  {
   "cell_type": "markdown",
   "metadata": {},
   "source": [
    "***\n",
    "# CatBoost encoding"
   ]
  },
  {
   "cell_type": "code",
   "execution_count": 78,
   "metadata": {},
   "outputs": [],
   "source": [
    "# Train set\n",
    "X_train_enc = ce.CatBoostEncoder(cols=['prod_company_1', 'cast_1', 'cast_2', \n",
    "                                  'cast_3', 'cast_4', 'cast_5',\n",
    "                                  'director', 'producer', 'keyword_1'],\n",
    "                                    sigma=0.05\n",
    "                                   ).fit_transform(X_train, y_train)\n",
    "\n",
    "# Test set\n",
    "X_test_enc = ce.CatBoostEncoder(cols=['prod_company_1', 'cast_1', 'cast_2', \n",
    "                                  'cast_3', 'cast_4', 'cast_5',\n",
    "                                  'director', 'producer', 'keyword_1']\n",
    "                                  ).fit_transform(X_test, y_test)"
   ]
  },
  {
   "cell_type": "markdown",
   "metadata": {},
   "source": [
    "## Class reweight"
   ]
  },
  {
   "cell_type": "code",
   "execution_count": 80,
   "metadata": {},
   "outputs": [
    {
     "name": "stdout",
     "output_type": "stream",
     "text": [
      "              precision    recall  f1-score   support\n",
      "\n",
      "           0       0.55      0.57      0.56       253\n",
      "           1       0.75      0.73      0.74       444\n",
      "\n",
      "    accuracy                           0.67       697\n",
      "   macro avg       0.65      0.65      0.65       697\n",
      "weighted avg       0.68      0.67      0.67       697\n",
      "\n"
     ]
    }
   ],
   "source": [
    "clf = DecisionTreeClassifier(splitter='best',\n",
    "                             min_samples_split= 18,\n",
    "                             min_samples_leaf= 2,\n",
    "                             max_features= 'auto',\n",
    "                             max_depth=70,\n",
    "                             class_weight={0:2, 1:1},\n",
    "                             criterion= 'entropy',\n",
    "                             ccp_alpha= 0.020202020202020204,\n",
    "                            random_state=1\n",
    "                            ).fit(X_train_enc, y_train)\n",
    "\n",
    "# Get predictions\n",
    "y_pred = clf.predict(X_test_enc)\n",
    "\n",
    "# Print classification_report\n",
    "print(classification_report(y_test, y_pred))"
   ]
  },
  {
   "cell_type": "code",
   "execution_count": 81,
   "metadata": {},
   "outputs": [
    {
     "name": "stdout",
     "output_type": "stream",
     "text": [
      "The ROCAUC score is: 0.66\n"
     ]
    }
   ],
   "source": [
    "probs = clf.predict_proba(X_test_enc)[:, 1]\n",
    "print('The ROCAUC score is: {:.2f}'.format(roc_auc_score(y_test, probs)))"
   ]
  },
  {
   "cell_type": "code",
   "execution_count": 82,
   "metadata": {},
   "outputs": [
    {
     "name": "stdout",
     "output_type": "stream",
     "text": [
      "Unnormalized confusion matrix:\n",
      " [[145 108]\n",
      " [120 324]]\n"
     ]
    },
    {
     "data": {
      "image/png": "[encoded data removed]",
      "text/plain": [
       "<Figure size 360x360 with 2 Axes>"
      ]
     },
     "metadata": {},
     "output_type": "display_data"
    }
   ],
   "source": [
    "cm = confusion_matrix(y_test, y_pred)\n",
    "cm = cm.astype('float') / cm.sum(axis=1)[:, np.newaxis]\n",
    "\n",
    "fig, ax = plt.subplots(figsize=(5, 5))\n",
    "im = ax.imshow(cm, interpolation='nearest', cmap='GnBu')\n",
    "ax.figure.colorbar(im, ax=ax)\n",
    "# We want to show all ticks...\n",
    "ax.set(xticks=np.arange(cm.shape[1]),\n",
    "       yticks=np.arange(cm.shape[0]),\n",
    "       # ... and label them with the respective list entries\n",
    "       ylabel='True label',\n",
    "       xlabel='Predicted label')\n",
    "ax.set_title('Normalized Confusion matrix', fontsize=15)\n",
    "\n",
    "# Loop over data dimensions and create text annotations.\n",
    "fmt = '.2f'\n",
    "thresh = cm.max() / 2.\n",
    "for i in range(cm.shape[0]):\n",
    "    for j in range(cm.shape[1]):\n",
    "        ax.text(j, i, format(cm[i, j], fmt),\n",
    "                ha=\"center\", va=\"center\",\n",
    "                color=\"white\" if cm[i, j] > thresh else \"black\")\n",
    "\n",
    "np.set_printoptions(precision=2)\n",
    "\n",
    "print('Unnormalized confusion matrix:\\n', confusion_matrix(y_test, y_pred))\n",
    "plt.show()"
   ]
  },
  {
   "cell_type": "markdown",
   "metadata": {},
   "source": [
    "## SMOTE oversampling"
   ]
  },
  {
   "cell_type": "code",
   "execution_count": 85,
   "metadata": {},
   "outputs": [
    {
     "name": "stderr",
     "output_type": "stream",
     "text": [
      "C:\\Users\\Sina\\AppData\\Roaming\\Python\\Python37\\site-packages\\sklearn\\utils\\deprecation.py:87: FutureWarning: Function safe_indexing is deprecated; safe_indexing is deprecated in version 0.22 and will be removed in version 0.24.\n",
      "  warnings.warn(msg, category=FutureWarning)\n"
     ]
    }
   ],
   "source": [
    "X_train_smote, y_train_smote = SMOTE().fit_resample(X_train_enc, y_train)"
   ]
  },
  {
   "cell_type": "code",
   "execution_count": 86,
   "metadata": {},
   "outputs": [
    {
     "data": {
      "text/plain": [
       "array([1253, 1253], dtype=int64)"
      ]
     },
     "execution_count": 86,
     "metadata": {},
     "output_type": "execute_result"
    }
   ],
   "source": [
    "np.bincount(y_train_smote)"
   ]
  },
  {
   "cell_type": "code",
   "execution_count": 87,
   "metadata": {},
   "outputs": [
    {
     "name": "stdout",
     "output_type": "stream",
     "text": [
      "              precision    recall  f1-score   support\n",
      "\n",
      "           0       0.47      0.70      0.56       253\n",
      "           1       0.76      0.55      0.64       444\n",
      "\n",
      "    accuracy                           0.61       697\n",
      "   macro avg       0.62      0.63      0.60       697\n",
      "weighted avg       0.66      0.61      0.61       697\n",
      "\n"
     ]
    }
   ],
   "source": [
    "clf = DecisionTreeClassifier(splitter='best',\n",
    "                             min_samples_split= 18,\n",
    "                             min_samples_leaf= 2,\n",
    "                             max_features= 'auto',\n",
    "                             max_depth=70,\n",
    "                             criterion= 'entropy',\n",
    "                             ccp_alpha= 0.020202020202020204,\n",
    "                            random_state=1\n",
    "                            ).fit(X_train_smote, y_train_smote)\n",
    "\n",
    "# Get predictions\n",
    "y_pred = clf.predict(X_test_enc)\n",
    "\n",
    "# Print classification_report\n",
    "print(classification_report(y_test, y_pred))"
   ]
  },
  {
   "cell_type": "code",
   "execution_count": 88,
   "metadata": {},
   "outputs": [
    {
     "name": "stdout",
     "output_type": "stream",
     "text": [
      "The ROCAUC score is: 0.65\n"
     ]
    }
   ],
   "source": [
    "probs = clf.predict_proba(X_test_enc)[:, 1]\n",
    "print('The ROCAUC score is: {:.2f}'.format(roc_auc_score(y_test, probs)))"
   ]
  },
  {
   "cell_type": "code",
   "execution_count": 89,
   "metadata": {},
   "outputs": [
    {
     "name": "stdout",
     "output_type": "stream",
     "text": [
      "Unnormalized confusion matrix:\n",
      " [[177  76]\n",
      " [199 245]]\n"
     ]
    },
    {
     "data": {
      "image/png": "[encoded data removed]",
      "text/plain": [
       "<Figure size 360x360 with 2 Axes>"
      ]
     },
     "metadata": {},
     "output_type": "display_data"
    }
   ],
   "source": [
    "cm = confusion_matrix(y_test, y_pred)\n",
    "cm = cm.astype('float') / cm.sum(axis=1)[:, np.newaxis]\n",
    "\n",
    "fig, ax = plt.subplots(figsize=(5, 5))\n",
    "im = ax.imshow(cm, interpolation='nearest', cmap='GnBu')\n",
    "ax.figure.colorbar(im, ax=ax)\n",
    "# We want to show all ticks...\n",
    "ax.set(xticks=np.arange(cm.shape[1]),\n",
    "       yticks=np.arange(cm.shape[0]),\n",
    "       # ... and label them with the respective list entries\n",
    "       ylabel='True label',\n",
    "       xlabel='Predicted label')\n",
    "ax.set_title('Normalized Confusion matrix', fontsize=15)\n",
    "\n",
    "# Loop over data dimensions and create text annotations.\n",
    "fmt = '.2f'\n",
    "thresh = cm.max() / 2.\n",
    "for i in range(cm.shape[0]):\n",
    "    for j in range(cm.shape[1]):\n",
    "        ax.text(j, i, format(cm[i, j], fmt),\n",
    "                ha=\"center\", va=\"center\",\n",
    "                color=\"white\" if cm[i, j] > thresh else \"black\")\n",
    "\n",
    "np.set_printoptions(precision=2)\n",
    "\n",
    "print('Unnormalized confusion matrix:\\n', confusion_matrix(y_test, y_pred))\n",
    "plt.show()"
   ]
  },
  {
   "cell_type": "markdown",
   "metadata": {},
   "source": [
    "## ADASYN oversampling"
   ]
  },
  {
   "cell_type": "code",
   "execution_count": 90,
   "metadata": {},
   "outputs": [
    {
     "name": "stderr",
     "output_type": "stream",
     "text": [
      "C:\\Users\\Sina\\AppData\\Roaming\\Python\\Python37\\site-packages\\sklearn\\utils\\deprecation.py:87: FutureWarning: Function safe_indexing is deprecated; safe_indexing is deprecated in version 0.22 and will be removed in version 0.24.\n",
      "  warnings.warn(msg, category=FutureWarning)\n"
     ]
    }
   ],
   "source": [
    "X_train_adasyn, y_train_adasyn = ADASYN().fit_resample(X_train_enc, y_train)"
   ]
  },
  {
   "cell_type": "code",
   "execution_count": 91,
   "metadata": {},
   "outputs": [
    {
     "data": {
      "text/plain": [
       "array([1229, 1253], dtype=int64)"
      ]
     },
     "execution_count": 91,
     "metadata": {},
     "output_type": "execute_result"
    }
   ],
   "source": [
    "np.bincount(y_train_adasyn)"
   ]
  },
  {
   "cell_type": "code",
   "execution_count": 93,
   "metadata": {},
   "outputs": [
    {
     "name": "stdout",
     "output_type": "stream",
     "text": [
      "              precision    recall  f1-score   support\n",
      "\n",
      "           0       0.61      0.22      0.32       253\n",
      "           1       0.67      0.92      0.78       444\n",
      "\n",
      "    accuracy                           0.67       697\n",
      "   macro avg       0.64      0.57      0.55       697\n",
      "weighted avg       0.65      0.67      0.61       697\n",
      "\n"
     ]
    }
   ],
   "source": [
    "clf = DecisionTreeClassifier(splitter='best',\n",
    "                             min_samples_split= 18,\n",
    "                             min_samples_leaf= 2,\n",
    "                             max_features= 'auto',\n",
    "                             max_depth=70,\n",
    "                             criterion= 'entropy',\n",
    "                             ccp_alpha= 0.020202020202020204,\n",
    "                            random_state=1\n",
    "                            ).fit(X_train_adasyn, y_train_adasyn)\n",
    "\n",
    "# Get predictions\n",
    "y_pred = clf.predict(X_test_enc)\n",
    "\n",
    "# Print classification_report\n",
    "print(classification_report(y_test, y_pred))"
   ]
  },
  {
   "cell_type": "code",
   "execution_count": 94,
   "metadata": {},
   "outputs": [
    {
     "name": "stdout",
     "output_type": "stream",
     "text": [
      "The ROCAUC score is: 0.57\n"
     ]
    }
   ],
   "source": [
    "probs = clf.predict_proba(X_test_enc)[:, 1]\n",
    "print('The ROCAUC score is: {:.2f}'.format(roc_auc_score(y_test, probs)))"
   ]
  },
  {
   "cell_type": "code",
   "execution_count": 95,
   "metadata": {},
   "outputs": [
    {
     "name": "stdout",
     "output_type": "stream",
     "text": [
      "Unnormalized confusion matrix:\n",
      " [[ 55 198]\n",
      " [ 35 409]]\n"
     ]
    },
    {
     "data": {
      "image/png": "[encoded data removed]",
      "text/plain": [
       "<Figure size 360x360 with 2 Axes>"
      ]
     },
     "metadata": {},
     "output_type": "display_data"
    }
   ],
   "source": [
    "cm = confusion_matrix(y_test, y_pred)\n",
    "cm = cm.astype('float') / cm.sum(axis=1)[:, np.newaxis]\n",
    "\n",
    "fig, ax = plt.subplots(figsize=(5, 5))\n",
    "im = ax.imshow(cm, interpolation='nearest', cmap='GnBu')\n",
    "ax.figure.colorbar(im, ax=ax)\n",
    "# We want to show all ticks...\n",
    "ax.set(xticks=np.arange(cm.shape[1]),\n",
    "       yticks=np.arange(cm.shape[0]),\n",
    "       # ... and label them with the respective list entries\n",
    "       ylabel='True label',\n",
    "       xlabel='Predicted label')\n",
    "ax.set_title('Normalized Confusion matrix', fontsize=15)\n",
    "\n",
    "# Loop over data dimensions and create text annotations.\n",
    "fmt = '.2f'\n",
    "thresh = cm.max() / 2.\n",
    "for i in range(cm.shape[0]):\n",
    "    for j in range(cm.shape[1]):\n",
    "        ax.text(j, i, format(cm[i, j], fmt),\n",
    "                ha=\"center\", va=\"center\",\n",
    "                color=\"white\" if cm[i, j] > thresh else \"black\")\n",
    "\n",
    "np.set_printoptions(precision=2)\n",
    "\n",
    "print('Unnormalized confusion matrix:\\n', confusion_matrix(y_test, y_pred))\n",
    "plt.show()"
   ]
  },
  {
   "cell_type": "markdown",
   "metadata": {},
   "source": [
    "***\n",
    "# Target encoding\n",
    "\n",
    "All of these below are overfit. We will just use them as they are as an example of overfitting."
   ]
  },
  {
   "cell_type": "code",
   "execution_count": 96,
   "metadata": {},
   "outputs": [],
   "source": [
    "# Train set\n",
    "X_train_enc = ce.TargetEncoder(cols=['prod_company_1', 'cast_1', 'cast_2', \n",
    "                                  'cast_3', 'cast_4', 'cast_5',\n",
    "                                  'director', 'producer', 'keyword_1'],\n",
    "                               smoothing=200\n",
    "                                   ).fit_transform(X_train, y_train)\n",
    "\n",
    "# Test set\n",
    "X_test_enc = ce.TargetEncoder(cols=['prod_company_1', 'cast_1', 'cast_2', \n",
    "                                  'cast_3', 'cast_4', 'cast_5',\n",
    "                                    'director', 'producer', 'keyword_1']\n",
    "                                  ).fit_transform(X_test, y_test)"
   ]
  },
  {
   "cell_type": "markdown",
   "metadata": {},
   "source": [
    "## Class reweight"
   ]
  },
  {
   "cell_type": "code",
   "execution_count": 99,
   "metadata": {},
   "outputs": [
    {
     "name": "stdout",
     "output_type": "stream",
     "text": [
      "              precision    recall  f1-score   support\n",
      "\n",
      "           0       0.72      0.96      0.82       253\n",
      "           1       0.97      0.79      0.87       444\n",
      "\n",
      "    accuracy                           0.85       697\n",
      "   macro avg       0.85      0.87      0.85       697\n",
      "weighted avg       0.88      0.85      0.85       697\n",
      "\n"
     ]
    }
   ],
   "source": [
    "clf = DecisionTreeClassifier(splitter='best',\n",
    "                             min_samples_split= 18,\n",
    "                             min_samples_leaf= 2,\n",
    "                             max_features= 'auto',\n",
    "                             max_depth=70,\n",
    "                             criterion= 'entropy',\n",
    "                             class_weight={0:2, 1:1},\n",
    "                             ccp_alpha= 0.020202020202020204,\n",
    "                            random_state=1\n",
    "                            ).fit(X_train_enc, y_train)\n",
    "\n",
    "# Get predictions\n",
    "y_pred = clf.predict(X_test_enc)\n",
    "\n",
    "# Print classification_report\n",
    "print(classification_report(y_test, y_pred))"
   ]
  },
  {
   "cell_type": "code",
   "execution_count": 100,
   "metadata": {},
   "outputs": [
    {
     "name": "stdout",
     "output_type": "stream",
     "text": [
      "The ROCAUC score is: 0.89\n"
     ]
    }
   ],
   "source": [
    "probs = clf.predict_proba(X_test_enc)[:, 1]\n",
    "print('The ROCAUC score is: {:.2f}'.format(roc_auc_score(y_test, probs)))"
   ]
  },
  {
   "cell_type": "code",
   "execution_count": 101,
   "metadata": {},
   "outputs": [
    {
     "name": "stdout",
     "output_type": "stream",
     "text": [
      "Unnormalized confusion matrix:\n",
      " [[243  10]\n",
      " [ 95 349]]\n"
     ]
    },
    {
     "data": {
      "image/png": "[encoded data removed]",
      "text/plain": [
       "<Figure size 360x360 with 2 Axes>"
      ]
     },
     "metadata": {},
     "output_type": "display_data"
    }
   ],
   "source": [
    "cm = confusion_matrix(y_test, y_pred)\n",
    "cm = cm.astype('float') / cm.sum(axis=1)[:, np.newaxis]\n",
    "\n",
    "fig, ax = plt.subplots(figsize=(5, 5))\n",
    "im = ax.imshow(cm, interpolation='nearest', cmap='GnBu')\n",
    "ax.figure.colorbar(im, ax=ax)\n",
    "# We want to show all ticks...\n",
    "ax.set(xticks=np.arange(cm.shape[1]),\n",
    "       yticks=np.arange(cm.shape[0]),\n",
    "       # ... and label them with the respective list entries\n",
    "       ylabel='True label',\n",
    "       xlabel='Predicted label')\n",
    "ax.set_title('Normalized Confusion matrix', fontsize=15)\n",
    "\n",
    "# Loop over data dimensions and create text annotations.\n",
    "fmt = '.2f'\n",
    "thresh = cm.max() / 2.\n",
    "for i in range(cm.shape[0]):\n",
    "    for j in range(cm.shape[1]):\n",
    "        ax.text(j, i, format(cm[i, j], fmt),\n",
    "                ha=\"center\", va=\"center\",\n",
    "                color=\"white\" if cm[i, j] > thresh else \"black\")\n",
    "\n",
    "np.set_printoptions(precision=2)\n",
    "\n",
    "print('Unnormalized confusion matrix:\\n', confusion_matrix(y_test, y_pred))\n",
    "plt.show()"
   ]
  },
  {
   "cell_type": "code",
   "execution_count": 103,
   "metadata": {},
   "outputs": [
    {
     "data": {
      "image/png": "[encoded data removed]",
      "text/plain": [
       "<Figure size 864x576 with 2 Axes>"
      ]
     },
     "metadata": {},
     "output_type": "display_data"
    }
   ],
   "source": [
    "# Mean-decrease-in-impurity (MDI)\n",
    "fi = pd.Series(clf.feature_importances_, index=X_train.columns).sort_values(ascending=False)\n",
    "\n",
    "fig, (ax1, ax2) = plt.subplots(1, 2, figsize=(12, 8))\n",
    "sns.barplot(fi.values, fi.index, ax=ax1, palette='tab20')\n",
    "sns.despine(left=True)\n",
    "ax1.xaxis.grid(True)\n",
    "ax1.tick_params(axis='y', length=0)\n",
    "ax1.set_xlabel('MDI Feature Importance')\n",
    "#ax1.set_xticklabels(fi.index)\n",
    "\n",
    "plt.show()"
   ]
  },
  {
   "cell_type": "markdown",
   "metadata": {},
   "source": [
    "## SMOTE resampling"
   ]
  },
  {
   "cell_type": "code",
   "execution_count": 104,
   "metadata": {},
   "outputs": [
    {
     "name": "stderr",
     "output_type": "stream",
     "text": [
      "C:\\Users\\Sina\\AppData\\Roaming\\Python\\Python37\\site-packages\\sklearn\\utils\\deprecation.py:87: FutureWarning: Function safe_indexing is deprecated; safe_indexing is deprecated in version 0.22 and will be removed in version 0.24.\n",
      "  warnings.warn(msg, category=FutureWarning)\n"
     ]
    }
   ],
   "source": [
    "X_train_smote, y_train_smote = SMOTE().fit_resample(X_train_enc, y_train)"
   ]
  },
  {
   "cell_type": "code",
   "execution_count": 105,
   "metadata": {},
   "outputs": [
    {
     "data": {
      "text/plain": [
       "array([1253, 1253], dtype=int64)"
      ]
     },
     "execution_count": 105,
     "metadata": {},
     "output_type": "execute_result"
    }
   ],
   "source": [
    "np.bincount(y_train_smote)"
   ]
  },
  {
   "cell_type": "code",
   "execution_count": 106,
   "metadata": {},
   "outputs": [
    {
     "name": "stdout",
     "output_type": "stream",
     "text": [
      "              precision    recall  f1-score   support\n",
      "\n",
      "           0       0.55      0.96      0.70       253\n",
      "           1       0.96      0.55      0.70       444\n",
      "\n",
      "    accuracy                           0.70       697\n",
      "   macro avg       0.76      0.75      0.70       697\n",
      "weighted avg       0.81      0.70      0.70       697\n",
      "\n"
     ]
    }
   ],
   "source": [
    "clf = DecisionTreeClassifier(splitter='best',\n",
    "                             min_samples_split= 18,\n",
    "                             min_samples_leaf= 2,\n",
    "                             max_features= 'auto',\n",
    "                             max_depth=70,\n",
    "                             criterion= 'entropy',\n",
    "                             ccp_alpha= 0.020202020202020204,\n",
    "                            random_state=1\n",
    "                            ).fit(X_train_smote, y_train_smote)\n",
    "\n",
    "# Get predictions\n",
    "y_pred = clf.predict(X_test_enc)\n",
    "\n",
    "# Print classification_report\n",
    "print(classification_report(y_test, y_pred))"
   ]
  },
  {
   "cell_type": "code",
   "execution_count": 107,
   "metadata": {},
   "outputs": [
    {
     "name": "stdout",
     "output_type": "stream",
     "text": [
      "The ROCAUC score is: 0.81\n"
     ]
    }
   ],
   "source": [
    "probs = clf.predict_proba(X_test_enc)[:, 1]\n",
    "print('The ROCAUC score is: {:.2f}'.format(roc_auc_score(y_test, probs)))"
   ]
  },
  {
   "cell_type": "code",
   "execution_count": 108,
   "metadata": {},
   "outputs": [
    {
     "name": "stdout",
     "output_type": "stream",
     "text": [
      "Unnormalized confusion matrix:\n",
      " [[244   9]\n",
      " [202 242]]\n"
     ]
    },
    {
     "data": {
      "image/png": "[encoded data removed]",
      "text/plain": [
       "<Figure size 360x360 with 2 Axes>"
      ]
     },
     "metadata": {},
     "output_type": "display_data"
    }
   ],
   "source": [
    "cm = confusion_matrix(y_test, y_pred)\n",
    "cm = cm.astype('float') / cm.sum(axis=1)[:, np.newaxis]\n",
    "\n",
    "fig, ax = plt.subplots(figsize=(5, 5))\n",
    "im = ax.imshow(cm, interpolation='nearest', cmap='GnBu')\n",
    "ax.figure.colorbar(im, ax=ax)\n",
    "# We want to show all ticks...\n",
    "ax.set(xticks=np.arange(cm.shape[1]),\n",
    "       yticks=np.arange(cm.shape[0]),\n",
    "       # ... and label them with the respective list entries\n",
    "       ylabel='True label',\n",
    "       xlabel='Predicted label')\n",
    "ax.set_title('Normalized Confusion matrix', fontsize=15)\n",
    "\n",
    "# Loop over data dimensions and create text annotations.\n",
    "fmt = '.2f'\n",
    "thresh = cm.max() / 2.\n",
    "for i in range(cm.shape[0]):\n",
    "    for j in range(cm.shape[1]):\n",
    "        ax.text(j, i, format(cm[i, j], fmt),\n",
    "                ha=\"center\", va=\"center\",\n",
    "                color=\"white\" if cm[i, j] > thresh else \"black\")\n",
    "\n",
    "np.set_printoptions(precision=2)\n",
    "\n",
    "print('Unnormalized confusion matrix:\\n', confusion_matrix(y_test, y_pred))\n",
    "plt.show()"
   ]
  },
  {
   "cell_type": "markdown",
   "metadata": {},
   "source": [
    "## ADASYN resampling"
   ]
  },
  {
   "cell_type": "code",
   "execution_count": 132,
   "metadata": {},
   "outputs": [
    {
     "name": "stderr",
     "output_type": "stream",
     "text": [
      "C:\\Users\\Sina\\AppData\\Roaming\\Python\\Python37\\site-packages\\sklearn\\utils\\deprecation.py:87: FutureWarning: Function safe_indexing is deprecated; safe_indexing is deprecated in version 0.22 and will be removed in version 0.24.\n",
      "  warnings.warn(msg, category=FutureWarning)\n"
     ]
    }
   ],
   "source": [
    "X_train_adasyn, y_train_adaysn = ADASYN().fit_resample(X_train_enc, y_train)"
   ]
  },
  {
   "cell_type": "code",
   "execution_count": 134,
   "metadata": {
    "scrolled": false
   },
   "outputs": [
    {
     "data": {
      "text/plain": [
       "array([1229, 1253], dtype=int64)"
      ]
     },
     "execution_count": 134,
     "metadata": {},
     "output_type": "execute_result"
    }
   ],
   "source": [
    "np.bincount(y_train_adasyn)"
   ]
  },
  {
   "cell_type": "code",
   "execution_count": 136,
   "metadata": {},
   "outputs": [
    {
     "name": "stdout",
     "output_type": "stream",
     "text": [
      "              precision    recall  f1-score   support\n",
      "\n",
      "           0       0.57      0.96      0.72       253\n",
      "           1       0.97      0.59      0.73       444\n",
      "\n",
      "    accuracy                           0.73       697\n",
      "   macro avg       0.77      0.78      0.73       697\n",
      "weighted avg       0.82      0.73      0.73       697\n",
      "\n"
     ]
    }
   ],
   "source": [
    "clf = DecisionTreeClassifier(splitter='best',\n",
    "                             min_samples_split= 18,\n",
    "                             min_samples_leaf= 2,\n",
    "                             max_features= 'auto',\n",
    "                             max_depth=70,\n",
    "                             criterion= 'entropy',\n",
    "                             ccp_alpha= 0.020202020202020204,\n",
    "                            random_state=1\n",
    "                            ).fit(X_train_adasyn, y_train_adasyn[:-2])\n",
    "\n",
    "# Get predictions\n",
    "y_pred = clf.predict(X_test_enc)\n",
    "\n",
    "# Print classification_report\n",
    "print(classification_report(y_test, y_pred))"
   ]
  },
  {
   "cell_type": "code",
   "execution_count": 137,
   "metadata": {},
   "outputs": [
    {
     "name": "stdout",
     "output_type": "stream",
     "text": [
      "The ROCAUC score is: 0.85\n"
     ]
    }
   ],
   "source": [
    "probs = clf.predict_proba(X_test_enc)[:, 1]\n",
    "print('The ROCAUC score is: {:.2f}'.format(roc_auc_score(y_test, probs)))"
   ]
  },
  {
   "cell_type": "code",
   "execution_count": 138,
   "metadata": {},
   "outputs": [
    {
     "name": "stdout",
     "output_type": "stream",
     "text": [
      "Unnormalized confusion matrix:\n",
      " [[244   9]\n",
      " [182 262]]\n"
     ]
    },
    {
     "data": {
      "image/png": "[encoded data removed]",
      "text/plain": [
       "<Figure size 360x360 with 2 Axes>"
      ]
     },
     "metadata": {},
     "output_type": "display_data"
    }
   ],
   "source": [
    "cm = confusion_matrix(y_test, y_pred)\n",
    "cm = cm.astype('float') / cm.sum(axis=1)[:, np.newaxis]\n",
    "\n",
    "fig, ax = plt.subplots(figsize=(5, 5))\n",
    "im = ax.imshow(cm, interpolation='nearest', cmap='GnBu')\n",
    "ax.figure.colorbar(im, ax=ax)\n",
    "# We want to show all ticks...\n",
    "ax.set(xticks=np.arange(cm.shape[1]),\n",
    "       yticks=np.arange(cm.shape[0]),\n",
    "       # ... and label them with the respective list entries\n",
    "       ylabel='True label',\n",
    "       xlabel='Predicted label')\n",
    "ax.set_title('Normalized Confusion matrix', fontsize=15)\n",
    "\n",
    "# Loop over data dimensions and create text annotations.\n",
    "fmt = '.2f'\n",
    "thresh = cm.max() / 2.\n",
    "for i in range(cm.shape[0]):\n",
    "    for j in range(cm.shape[1]):\n",
    "        ax.text(j, i, format(cm[i, j], fmt),\n",
    "                ha=\"center\", va=\"center\",\n",
    "                color=\"white\" if cm[i, j] > thresh else \"black\")\n",
    "\n",
    "np.set_printoptions(precision=2)\n",
    "\n",
    "print('Unnormalized confusion matrix:\\n', confusion_matrix(y_test, y_pred))\n",
    "plt.show()"
   ]
  },
  {
   "cell_type": "code",
   "execution_count": null,
   "metadata": {},
   "outputs": [],
   "source": []
  },
  {
   "cell_type": "markdown",
   "metadata": {},
   "source": [
    "# APPENDIX: Additive smoothing\n",
    "\n",
    "[source](https://maxhalford.github.io/blog/target-encoding-done-the-right-way/)"
   ]
  },
  {
   "cell_type": "code",
   "execution_count": 149,
   "metadata": {},
   "outputs": [],
   "source": [
    "def calc_smooth_mean(df, by, on, m):\n",
    "    # Compute the global mean\n",
    "    mean = df[on].mean()\n",
    "\n",
    "    # Compute the number of values and the mean of each group\n",
    "    agg = df.groupby(by)[on].agg(['count', 'mean'])\n",
    "    counts = agg['count']\n",
    "    means = agg['mean']\n",
    "\n",
    "    # Compute the \"smoothed\" means\n",
    "    smooth = (counts * means + m * mean) / (counts + m)\n",
    "\n",
    "    # Replace each value by the according smoothed mean\n",
    "    return df[by].map(smooth)"
   ]
  },
  {
   "cell_type": "code",
   "execution_count": 110,
   "metadata": {},
   "outputs": [
    {
     "data": {
      "text/plain": [
       "Index(['Production_Budget', 'runtime', 'Action', 'Adventure', 'Animation',\n",
       "       'Comedy', 'Crime', 'Documentary', 'Drama', 'Family', 'Fantasy',\n",
       "       'History', 'Horror', 'Music', 'Mystery', 'Romance', 'Science_Fiction',\n",
       "       'TV_Movie', 'Thriller', 'War', 'Western', 'prod_company_1',\n",
       "       'tagline_wordcount', 'synopsis_wordcount', 'release_month',\n",
       "       'release_day', 'cast_1', 'cast_2', 'cast_3', 'cast_4', 'cast_5',\n",
       "       'director', 'producer', 'keyword_1'],\n",
       "      dtype='object')"
      ]
     },
     "execution_count": 110,
     "metadata": {},
     "output_type": "execute_result"
    }
   ],
   "source": [
    "X_train.columns"
   ]
  },
  {
   "cell_type": "code",
   "execution_count": 157,
   "metadata": {},
   "outputs": [],
   "source": [
    "# Train set\n",
    "train = shuffle_df.iloc[:2000, :]\n",
    "\n",
    "# Test set\n",
    "test = shuffle_df.iloc[2000:, :]"
   ]
  },
  {
   "cell_type": "code",
   "execution_count": 158,
   "metadata": {},
   "outputs": [],
   "source": [
    "cat_cols = ['prod_company_1', 'cast_1', 'cast_2', 'cast_3', 'cast_4', 'cast_5', 'director', 'producer', 'keyword_1']\n",
    "for col in cat_cols:\n",
    "    train.loc[:, col] = calc_smooth_mean(train, by=col, on='target', m=200)"
   ]
  },
  {
   "cell_type": "code",
   "execution_count": 159,
   "metadata": {},
   "outputs": [],
   "source": [
    "for col in cat_cols:\n",
    "    test.loc[:, col] = calc_smooth_mean(test, by=col, on='target', m=200)"
   ]
  },
  {
   "cell_type": "code",
   "execution_count": 160,
   "metadata": {},
   "outputs": [],
   "source": [
    "# Train set\n",
    "y_train = train['target']\n",
    "X_train = train.drop('target', axis=1)\n",
    "\n",
    "# Test set\n",
    "y_test = test['target']\n",
    "X_test = test.drop('target', axis=1)"
   ]
  },
  {
   "cell_type": "code",
   "execution_count": 161,
   "metadata": {},
   "outputs": [],
   "source": [
    "X_train = X_train.fillna(0)\n",
    "X_test = X_test.fillna(0)"
   ]
  },
  {
   "cell_type": "code",
   "execution_count": 162,
   "metadata": {},
   "outputs": [
    {
     "data": {
      "text/html": [
       "<div>\n",
       "<style scoped>\n",
       "    .dataframe tbody tr th:only-of-type {\n",
       "        vertical-align: middle;\n",
       "    }\n",
       "\n",
       "    .dataframe tbody tr th {\n",
       "        vertical-align: top;\n",
       "    }\n",
       "\n",
       "    .dataframe thead th {\n",
       "        text-align: right;\n",
       "    }\n",
       "</style>\n",
       "<table border=\"1\" class=\"dataframe\">\n",
       "  <thead>\n",
       "    <tr style=\"text-align: right;\">\n",
       "      <th></th>\n",
       "      <th>Production_Budget</th>\n",
       "      <th>runtime</th>\n",
       "      <th>Action</th>\n",
       "      <th>Adventure</th>\n",
       "      <th>Animation</th>\n",
       "      <th>Comedy</th>\n",
       "      <th>Crime</th>\n",
       "      <th>Documentary</th>\n",
       "      <th>Drama</th>\n",
       "      <th>Family</th>\n",
       "      <th>...</th>\n",
       "      <th>release_day</th>\n",
       "      <th>cast_1</th>\n",
       "      <th>cast_2</th>\n",
       "      <th>cast_3</th>\n",
       "      <th>cast_4</th>\n",
       "      <th>cast_5</th>\n",
       "      <th>director</th>\n",
       "      <th>producer</th>\n",
       "      <th>keyword_1</th>\n",
       "      <th>target</th>\n",
       "    </tr>\n",
       "  </thead>\n",
       "  <tbody>\n",
       "    <tr>\n",
       "      <th>2000</th>\n",
       "      <td>28000000</td>\n",
       "      <td>110.0</td>\n",
       "      <td>0</td>\n",
       "      <td>0</td>\n",
       "      <td>0</td>\n",
       "      <td>1</td>\n",
       "      <td>0</td>\n",
       "      <td>0</td>\n",
       "      <td>1</td>\n",
       "      <td>0</td>\n",
       "      <td>...</td>\n",
       "      <td>12</td>\n",
       "      <td>0.624295</td>\n",
       "      <td>0.627401</td>\n",
       "      <td>0.627401</td>\n",
       "      <td>0.627401</td>\n",
       "      <td>0.627401</td>\n",
       "      <td>0.631072</td>\n",
       "      <td>0.638608</td>\n",
       "      <td>0.627401</td>\n",
       "      <td>1</td>\n",
       "    </tr>\n",
       "    <tr>\n",
       "      <th>2001</th>\n",
       "      <td>2000000</td>\n",
       "      <td>100.0</td>\n",
       "      <td>0</td>\n",
       "      <td>0</td>\n",
       "      <td>0</td>\n",
       "      <td>0</td>\n",
       "      <td>0</td>\n",
       "      <td>0</td>\n",
       "      <td>1</td>\n",
       "      <td>0</td>\n",
       "      <td>...</td>\n",
       "      <td>20</td>\n",
       "      <td>0.627401</td>\n",
       "      <td>0.627401</td>\n",
       "      <td>0.627401</td>\n",
       "      <td>0.627401</td>\n",
       "      <td>0.627401</td>\n",
       "      <td>0.627401</td>\n",
       "      <td>0.626146</td>\n",
       "      <td>0.627401</td>\n",
       "      <td>1</td>\n",
       "    </tr>\n",
       "    <tr>\n",
       "      <th>2002</th>\n",
       "      <td>25000000</td>\n",
       "      <td>97.0</td>\n",
       "      <td>0</td>\n",
       "      <td>0</td>\n",
       "      <td>0</td>\n",
       "      <td>1</td>\n",
       "      <td>0</td>\n",
       "      <td>0</td>\n",
       "      <td>1</td>\n",
       "      <td>0</td>\n",
       "      <td>...</td>\n",
       "      <td>13</td>\n",
       "      <td>0.627401</td>\n",
       "      <td>0.626146</td>\n",
       "      <td>0.627401</td>\n",
       "      <td>0.627401</td>\n",
       "      <td>0.624295</td>\n",
       "      <td>0.627401</td>\n",
       "      <td>0.643370</td>\n",
       "      <td>0.638201</td>\n",
       "      <td>1</td>\n",
       "    </tr>\n",
       "    <tr>\n",
       "      <th>2003</th>\n",
       "      <td>55000000</td>\n",
       "      <td>214.0</td>\n",
       "      <td>0</td>\n",
       "      <td>0</td>\n",
       "      <td>0</td>\n",
       "      <td>0</td>\n",
       "      <td>0</td>\n",
       "      <td>0</td>\n",
       "      <td>1</td>\n",
       "      <td>0</td>\n",
       "      <td>...</td>\n",
       "      <td>21</td>\n",
       "      <td>0.622426</td>\n",
       "      <td>0.622426</td>\n",
       "      <td>0.622426</td>\n",
       "      <td>0.624295</td>\n",
       "      <td>0.622426</td>\n",
       "      <td>0.622426</td>\n",
       "      <td>0.622426</td>\n",
       "      <td>0.622426</td>\n",
       "      <td>0</td>\n",
       "    </tr>\n",
       "    <tr>\n",
       "      <th>2004</th>\n",
       "      <td>40000000</td>\n",
       "      <td>111.0</td>\n",
       "      <td>0</td>\n",
       "      <td>1</td>\n",
       "      <td>0</td>\n",
       "      <td>0</td>\n",
       "      <td>0</td>\n",
       "      <td>0</td>\n",
       "      <td>1</td>\n",
       "      <td>0</td>\n",
       "      <td>...</td>\n",
       "      <td>22</td>\n",
       "      <td>0.619345</td>\n",
       "      <td>0.622426</td>\n",
       "      <td>0.622426</td>\n",
       "      <td>0.622426</td>\n",
       "      <td>0.622426</td>\n",
       "      <td>0.622426</td>\n",
       "      <td>0.622426</td>\n",
       "      <td>0.622426</td>\n",
       "      <td>0</td>\n",
       "    </tr>\n",
       "    <tr>\n",
       "      <th>...</th>\n",
       "      <td>...</td>\n",
       "      <td>...</td>\n",
       "      <td>...</td>\n",
       "      <td>...</td>\n",
       "      <td>...</td>\n",
       "      <td>...</td>\n",
       "      <td>...</td>\n",
       "      <td>...</td>\n",
       "      <td>...</td>\n",
       "      <td>...</td>\n",
       "      <td>...</td>\n",
       "      <td>...</td>\n",
       "      <td>...</td>\n",
       "      <td>...</td>\n",
       "      <td>...</td>\n",
       "      <td>...</td>\n",
       "      <td>...</td>\n",
       "      <td>...</td>\n",
       "      <td>...</td>\n",
       "      <td>...</td>\n",
       "      <td>...</td>\n",
       "    </tr>\n",
       "    <tr>\n",
       "      <th>2692</th>\n",
       "      <td>90000000</td>\n",
       "      <td>128.0</td>\n",
       "      <td>0</td>\n",
       "      <td>0</td>\n",
       "      <td>0</td>\n",
       "      <td>0</td>\n",
       "      <td>1</td>\n",
       "      <td>0</td>\n",
       "      <td>0</td>\n",
       "      <td>0</td>\n",
       "      <td>...</td>\n",
       "      <td>8</td>\n",
       "      <td>0.626146</td>\n",
       "      <td>0.627401</td>\n",
       "      <td>0.627401</td>\n",
       "      <td>0.627401</td>\n",
       "      <td>0.627401</td>\n",
       "      <td>0.627401</td>\n",
       "      <td>0.643370</td>\n",
       "      <td>0.617740</td>\n",
       "      <td>1</td>\n",
       "    </tr>\n",
       "    <tr>\n",
       "      <th>2693</th>\n",
       "      <td>55000000</td>\n",
       "      <td>91.0</td>\n",
       "      <td>0</td>\n",
       "      <td>0</td>\n",
       "      <td>1</td>\n",
       "      <td>1</td>\n",
       "      <td>0</td>\n",
       "      <td>0</td>\n",
       "      <td>0</td>\n",
       "      <td>1</td>\n",
       "      <td>...</td>\n",
       "      <td>30</td>\n",
       "      <td>0.624295</td>\n",
       "      <td>0.626146</td>\n",
       "      <td>0.627401</td>\n",
       "      <td>0.627401</td>\n",
       "      <td>0.629246</td>\n",
       "      <td>0.627401</td>\n",
       "      <td>0.632880</td>\n",
       "      <td>0.638201</td>\n",
       "      <td>1</td>\n",
       "    </tr>\n",
       "    <tr>\n",
       "      <th>2694</th>\n",
       "      <td>12000000</td>\n",
       "      <td>99.0</td>\n",
       "      <td>0</td>\n",
       "      <td>0</td>\n",
       "      <td>0</td>\n",
       "      <td>0</td>\n",
       "      <td>0</td>\n",
       "      <td>0</td>\n",
       "      <td>1</td>\n",
       "      <td>0</td>\n",
       "      <td>...</td>\n",
       "      <td>28</td>\n",
       "      <td>0.627401</td>\n",
       "      <td>0.629246</td>\n",
       "      <td>0.627401</td>\n",
       "      <td>0.627401</td>\n",
       "      <td>0.627401</td>\n",
       "      <td>0.627401</td>\n",
       "      <td>0.631072</td>\n",
       "      <td>0.627401</td>\n",
       "      <td>1</td>\n",
       "    </tr>\n",
       "    <tr>\n",
       "      <th>2695</th>\n",
       "      <td>30000</td>\n",
       "      <td>89.0</td>\n",
       "      <td>0</td>\n",
       "      <td>0</td>\n",
       "      <td>0</td>\n",
       "      <td>1</td>\n",
       "      <td>0</td>\n",
       "      <td>0</td>\n",
       "      <td>1</td>\n",
       "      <td>0</td>\n",
       "      <td>...</td>\n",
       "      <td>20</td>\n",
       "      <td>0.627401</td>\n",
       "      <td>0.627401</td>\n",
       "      <td>0.627401</td>\n",
       "      <td>0.627401</td>\n",
       "      <td>0.627401</td>\n",
       "      <td>0.627401</td>\n",
       "      <td>0.627401</td>\n",
       "      <td>0.627401</td>\n",
       "      <td>1</td>\n",
       "    </tr>\n",
       "    <tr>\n",
       "      <th>2696</th>\n",
       "      <td>15000000</td>\n",
       "      <td>117.0</td>\n",
       "      <td>0</td>\n",
       "      <td>0</td>\n",
       "      <td>0</td>\n",
       "      <td>0</td>\n",
       "      <td>0</td>\n",
       "      <td>0</td>\n",
       "      <td>1</td>\n",
       "      <td>0</td>\n",
       "      <td>...</td>\n",
       "      <td>22</td>\n",
       "      <td>0.629246</td>\n",
       "      <td>0.624295</td>\n",
       "      <td>0.627401</td>\n",
       "      <td>0.627401</td>\n",
       "      <td>0.627401</td>\n",
       "      <td>0.627401</td>\n",
       "      <td>0.627401</td>\n",
       "      <td>0.632583</td>\n",
       "      <td>1</td>\n",
       "    </tr>\n",
       "  </tbody>\n",
       "</table>\n",
       "<p>697 rows × 35 columns</p>\n",
       "</div>"
      ],
      "text/plain": [
       "      Production_Budget  runtime  Action  Adventure  Animation  Comedy  Crime  \\\n",
       "2000           28000000    110.0       0          0          0       1      0   \n",
       "2001            2000000    100.0       0          0          0       0      0   \n",
       "2002           25000000     97.0       0          0          0       1      0   \n",
       "2003           55000000    214.0       0          0          0       0      0   \n",
       "2004           40000000    111.0       0          1          0       0      0   \n",
       "...                 ...      ...     ...        ...        ...     ...    ...   \n",
       "2692           90000000    128.0       0          0          0       0      1   \n",
       "2693           55000000     91.0       0          0          1       1      0   \n",
       "2694           12000000     99.0       0          0          0       0      0   \n",
       "2695              30000     89.0       0          0          0       1      0   \n",
       "2696           15000000    117.0       0          0          0       0      0   \n",
       "\n",
       "      Documentary  Drama  Family  ...  release_day    cast_1    cast_2  \\\n",
       "2000            0      1       0  ...           12  0.624295  0.627401   \n",
       "2001            0      1       0  ...           20  0.627401  0.627401   \n",
       "2002            0      1       0  ...           13  0.627401  0.626146   \n",
       "2003            0      1       0  ...           21  0.622426  0.622426   \n",
       "2004            0      1       0  ...           22  0.619345  0.622426   \n",
       "...           ...    ...     ...  ...          ...       ...       ...   \n",
       "2692            0      0       0  ...            8  0.626146  0.627401   \n",
       "2693            0      0       1  ...           30  0.624295  0.626146   \n",
       "2694            0      1       0  ...           28  0.627401  0.629246   \n",
       "2695            0      1       0  ...           20  0.627401  0.627401   \n",
       "2696            0      1       0  ...           22  0.629246  0.624295   \n",
       "\n",
       "        cast_3    cast_4    cast_5  director  producer  keyword_1  target  \n",
       "2000  0.627401  0.627401  0.627401  0.631072  0.638608   0.627401       1  \n",
       "2001  0.627401  0.627401  0.627401  0.627401  0.626146   0.627401       1  \n",
       "2002  0.627401  0.627401  0.624295  0.627401  0.643370   0.638201       1  \n",
       "2003  0.622426  0.624295  0.622426  0.622426  0.622426   0.622426       0  \n",
       "2004  0.622426  0.622426  0.622426  0.622426  0.622426   0.622426       0  \n",
       "...        ...       ...       ...       ...       ...        ...     ...  \n",
       "2692  0.627401  0.627401  0.627401  0.627401  0.643370   0.617740       1  \n",
       "2693  0.627401  0.627401  0.629246  0.627401  0.632880   0.638201       1  \n",
       "2694  0.627401  0.627401  0.627401  0.627401  0.631072   0.627401       1  \n",
       "2695  0.627401  0.627401  0.627401  0.627401  0.627401   0.627401       1  \n",
       "2696  0.627401  0.627401  0.627401  0.627401  0.627401   0.632583       1  \n",
       "\n",
       "[697 rows x 35 columns]"
      ]
     },
     "execution_count": 162,
     "metadata": {},
     "output_type": "execute_result"
    }
   ],
   "source": [
    "test"
   ]
  },
  {
   "cell_type": "markdown",
   "metadata": {},
   "source": [
    "# Appendix: Randomized search"
   ]
  },
  {
   "cell_type": "code",
   "execution_count": 24,
   "metadata": {},
   "outputs": [],
   "source": [
    "class_weight = ['balanced', {0:2, 1:1}, {0:5, 1:1}, {0:10, 1:1}] # class of reweight\n",
    "\n",
    "\n",
    "# The function to measure the quality of a split. \n",
    "# Supported criteria are “gini” for the Gini impurity and “entropy” for the information gain.\n",
    "criterion = ['gini', 'entropy']\n",
    "\n",
    "#The strategy used to choose the split at each node. \n",
    "# Supported strategies are “best” to choose the best split and “random” to choose the best random split.\n",
    "splitter= ['best','random']\n",
    "\n",
    "# Number of features to consider at every split\n",
    "max_features = ['auto', 'sqrt']\n",
    "\n",
    "# Maximum number of levels in tree\n",
    "max_depth = [int(x) for x in np.linspace(10, 200, num = 20)]\n",
    "max_depth.append(None)\n",
    "\n",
    "# Minimum number of samples required to split a node\n",
    "min_samples_split = [2, 5, 10, 12, 14, 18, 20]\n",
    "\n",
    "# Minimum number of samples required at each leaf node\n",
    "min_samples_leaf = [1, 2, 4, 6, 8, 10]\n",
    "\n",
    "\n",
    " \n",
    "\n",
    "\n",
    "# Method of selecting samples for training each tree\n",
    "\n",
    "\n",
    "ccp_alpha = [float(x) for x in np.linspace(0, 1, num = 100)]\n",
    "\n",
    "random_grid ={\n",
    "             'criterion':criterion,\n",
    "             'splitter':splitter,\n",
    "             'max_depth':max_depth,\n",
    "             'min_samples_split':min_samples_split,\n",
    "             'min_samples_leaf':min_samples_leaf,\n",
    "             'max_features':max_features,\n",
    "             'ccp_alpha':ccp_alpha,\n",
    "             'class_weight':class_weight\n",
    "            }"
   ]
  },
  {
   "cell_type": "code",
   "execution_count": 26,
   "metadata": {},
   "outputs": [
    {
     "name": "stdout",
     "output_type": "stream",
     "text": [
      "Fitting 10 folds for each of 100 candidates, totalling 1000 fits\n"
     ]
    },
    {
     "name": "stderr",
     "output_type": "stream",
     "text": [
      "[Parallel(n_jobs=-1)]: Using backend LokyBackend with 8 concurrent workers.\n",
      "[Parallel(n_jobs=-1)]: Done  25 tasks      | elapsed:    2.9s\n",
      "[Parallel(n_jobs=-1)]: Done 877 tasks      | elapsed:    4.5s\n",
      "[Parallel(n_jobs=-1)]: Done 1000 out of 1000 | elapsed:    4.7s finished\n"
     ]
    },
    {
     "data": {
      "text/plain": [
       "RandomizedSearchCV(cv=10, error_score=nan,\n",
       "                   estimator=DecisionTreeClassifier(ccp_alpha=0.0,\n",
       "                                                    class_weight=None,\n",
       "                                                    criterion='gini',\n",
       "                                                    max_depth=None,\n",
       "                                                    max_features=None,\n",
       "                                                    max_leaf_nodes=None,\n",
       "                                                    min_impurity_decrease=0.0,\n",
       "                                                    min_impurity_split=None,\n",
       "                                                    min_samples_leaf=1,\n",
       "                                                    min_samples_split=2,\n",
       "                                                    min_weight_fraction_leaf=0.0,\n",
       "                                                    presort='deprecated',\n",
       "                                                    random_state=None,\n",
       "                                                    splitter='best'),...\n",
       "                                        'criterion': ['gini', 'entropy'],\n",
       "                                        'max_depth': [10, 20, 30, 40, 50, 60,\n",
       "                                                      70, 80, 90, 100, 110, 120,\n",
       "                                                      130, 140, 150, 160, 170,\n",
       "                                                      180, 190, 200, None],\n",
       "                                        'max_features': ['auto', 'sqrt'],\n",
       "                                        'min_samples_leaf': [1, 2, 4, 6, 8, 10],\n",
       "                                        'min_samples_split': [2, 5, 10, 12, 14,\n",
       "                                                              18, 20],\n",
       "                                        'splitter': ['best', 'random']},\n",
       "                   pre_dispatch='2*n_jobs', random_state=42, refit=True,\n",
       "                   return_train_score=False, scoring=None, verbose=2)"
      ]
     },
     "execution_count": 26,
     "metadata": {},
     "output_type": "execute_result"
    }
   ],
   "source": [
    "clf = DecisionTreeClassifier()\n",
    "clf_random = RandomizedSearchCV(estimator=clf, \n",
    "                                param_distributions=random_grid, \n",
    "                                n_iter=100, \n",
    "                                cv=10, \n",
    "                                verbose=2, \n",
    "                                random_state=42, \n",
    "                                n_jobs=-1)# Fit the random search model\n",
    "\n",
    "clf_random.fit(X_train_enc, y_train)"
   ]
  },
  {
   "cell_type": "code",
   "execution_count": 27,
   "metadata": {},
   "outputs": [
    {
     "data": {
      "text/plain": [
       "{'splitter': 'best',\n",
       " 'min_samples_split': 18,\n",
       " 'min_samples_leaf': 2,\n",
       " 'max_features': 'sqrt',\n",
       " 'max_depth': 70,\n",
       " 'criterion': 'entropy',\n",
       " 'class_weight': {0: 2, 1: 1},\n",
       " 'ccp_alpha': 0.020202020202020204}"
      ]
     },
     "execution_count": 27,
     "metadata": {},
     "output_type": "execute_result"
    }
   ],
   "source": [
    "clf_random.best_params_"
   ]
  },
  {
   "cell_type": "code",
   "execution_count": null,
   "metadata": {},
   "outputs": [],
   "source": []
  }
 ],
 "metadata": {
  "kernelspec": {
   "display_name": "Python 3",
   "language": "python",
   "name": "python3"
  },
  "language_info": {
   "codemirror_mode": {
    "name": "ipython",
    "version": 3
   },
   "file_extension": ".py",
   "mimetype": "text/x-python",
   "name": "python",
   "nbconvert_exporter": "python",
   "pygments_lexer": "ipython3",
   "version": "3.7.3"
  }
 },
 "nbformat": 4,
 "nbformat_minor": 2
}
